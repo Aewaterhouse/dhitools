{
 "cells": [
  {
   "cell_type": "markdown",
   "metadata": {},
   "source": [
    "# Model Input Layer - Manning's Roughness"
   ]
  },
  {
   "cell_type": "markdown",
   "metadata": {},
   "source": [
    "### Goal\n",
    "\n",
    "Create a `.dfsu` roughness map as a MIKE21 HD model input layer corresponding to elements from an unstructured `.mesh`, taking roughness values from a GIS polygon vector `.shp` file that outlines regions of roughness values."
   ]
  },
  {
   "cell_type": "code",
   "execution_count": 4,
   "metadata": {},
   "outputs": [],
   "source": [
    "from dhitools import mesh"
   ]
  },
  {
   "cell_type": "markdown",
   "metadata": {},
   "source": [
    "----\n",
    "## tl;dr\n",
    "\n",
    "Minimum steps to create roughness `.dfsu` from input `.mesh` and roughness `.shp`"
   ]
  },
  {
   "cell_type": "code",
   "execution_count": 2,
   "metadata": {},
   "outputs": [
    {
     "name": "stdout",
     "output_type": "stream",
     "text": [
      "Warning: CRS does not match!\n"
     ]
    }
   ],
   "source": [
    "mesh_f = 'data/example_mesh_no_elevation.mesh' # Mesh files\n",
    "roughness_shp = 'data/shp/roughness.shp' # Roughness map\n",
    "dfsu_out = 'data/roughness.dfsu' # Output dfsu\n",
    "\n",
    "field_attribute = 'Manning_n'\n",
    "\n",
    "m = mesh.Mesh(mesh_f) # Load mesh\n",
    "m.lyr_from_shape('roughness', roughness_shp, field_attribute) # Get roughness values for mesh elements from roughness map\n",
    "m.lyr_to_dfsu('roughness', dfsu_out) # Write dfsu"
   ]
  },
  {
   "cell_type": "markdown",
   "metadata": {},
   "source": [
    "----"
   ]
  },
  {
   "cell_type": "markdown",
   "metadata": {},
   "source": [
    "## Outline\n",
    "\n",
    "- Load `.mesh` and roughness map `.shp` file\n",
    "- Inspect these files\n",
    "- Assign roughness values from `.shp` file to mesh elements\n",
    "- Write a new `.dfsu` file\n"
   ]
  },
  {
   "cell_type": "code",
   "execution_count": 75,
   "metadata": {},
   "outputs": [],
   "source": [
    "import geopandas as gpd\n",
    "import numpy as np\n",
    "import matplotlib.pyplot as plt\n",
    "import matplotlib.cm as cm"
   ]
  },
  {
   "cell_type": "markdown",
   "metadata": {},
   "source": [
    "## Load Files"
   ]
  },
  {
   "cell_type": "code",
   "execution_count": 5,
   "metadata": {},
   "outputs": [],
   "source": [
    "mesh_f = 'data/example_mesh_no_elevation.mesh' # Mesh files\n",
    "roughness_shp = 'data/shp/roughness.shp' # Roughness map"
   ]
  },
  {
   "cell_type": "markdown",
   "metadata": {},
   "source": [
    "Load the mesh and roughness map"
   ]
  },
  {
   "cell_type": "code",
   "execution_count": 7,
   "metadata": {},
   "outputs": [],
   "source": [
    "m = mesh.Mesh(mesh_f)\n",
    "roughness_map = gpd.read_file(roughness_shp)"
   ]
  },
  {
   "cell_type": "markdown",
   "metadata": {},
   "source": [
    "Mesh summary:"
   ]
  },
  {
   "cell_type": "code",
   "execution_count": 8,
   "metadata": {},
   "outputs": [
    {
     "name": "stdout",
     "output_type": "stream",
     "text": [
      "Input mesh file: data/example_mesh_no_elevation.mesh\n",
      "Num. Elmts = 800\n",
      "Num. Nodes = 512\n",
      "Mean elevation = 0.0\n",
      "Projection = \n",
      " PROJCS[\"GDA_1994_MGA_Zone_56\",GEOGCS[\"GCS_GDA_1994\",DATUM[\"D_GDA_1994\",SPHEROID[\"GRS_1980\",6378137,298.257222101]],PRIMEM[\"Greenwich\",0],UNIT[\"Degree\",0.017453292519943295]],PROJECTION[\"Transverse_Mercator\"],PARAMETER[\"False_Easting\",500000],PARAMETER[\"False_Northing\",10000000],PARAMETER[\"Central_Meridian\",153],PARAMETER[\"Scale_Factor\",0.9996],PARAMETER[\"Latitude_Of_Origin\",0],UNIT[\"Meter\",1]]\n"
     ]
    }
   ],
   "source": [
    "m.summary()"
   ]
  },
  {
   "cell_type": "markdown",
   "metadata": {},
   "source": [
    "The `Geopandas` library is used to load the roughness file, which allows for `pandas` style dataframe functionality"
   ]
  },
  {
   "cell_type": "code",
   "execution_count": 22,
   "metadata": {},
   "outputs": [
    {
     "data": {
      "text/plain": [
       "(304, 14)"
      ]
     },
     "execution_count": 22,
     "metadata": {},
     "output_type": "execute_result"
    }
   ],
   "source": [
    "roughness_map.shape"
   ]
  },
  {
   "cell_type": "code",
   "execution_count": 10,
   "metadata": {},
   "outputs": [
    {
     "data": {
      "text/html": [
       "<div>\n",
       "<style scoped>\n",
       "    .dataframe tbody tr th:only-of-type {\n",
       "        vertical-align: middle;\n",
       "    }\n",
       "\n",
       "    .dataframe tbody tr th {\n",
       "        vertical-align: top;\n",
       "    }\n",
       "\n",
       "    .dataframe thead th {\n",
       "        text-align: right;\n",
       "    }\n",
       "</style>\n",
       "<table border=\"1\" class=\"dataframe\">\n",
       "  <thead>\n",
       "    <tr style=\"text-align: right;\">\n",
       "      <th></th>\n",
       "      <th>OBJECTID</th>\n",
       "      <th>QLUMP_CODE</th>\n",
       "      <th>PRIMARY</th>\n",
       "      <th>SECONDARY</th>\n",
       "      <th>TERTIARY</th>\n",
       "      <th>Manning_n</th>\n",
       "      <th>inv_mann_n</th>\n",
       "      <th>Class_Name</th>\n",
       "      <th>Id</th>\n",
       "      <th>ROAD</th>\n",
       "      <th>Shape_Leng</th>\n",
       "      <th>Shape_Le_1</th>\n",
       "      <th>Shape_Area</th>\n",
       "      <th>geometry</th>\n",
       "    </tr>\n",
       "  </thead>\n",
       "  <tbody>\n",
       "    <tr>\n",
       "      <th>0</th>\n",
       "      <td>0</td>\n",
       "      <td>0</td>\n",
       "      <td>None</td>\n",
       "      <td>None</td>\n",
       "      <td>None</td>\n",
       "      <td>0.025</td>\n",
       "      <td>40.0</td>\n",
       "      <td>Coastal Water</td>\n",
       "      <td>0</td>\n",
       "      <td>0.0</td>\n",
       "      <td>0.0</td>\n",
       "      <td>893089.340340</td>\n",
       "      <td>2.948710e+09</td>\n",
       "      <td>POLYGON ((538366.4013483515 7232355.935799949,...</td>\n",
       "    </tr>\n",
       "    <tr>\n",
       "      <th>1</th>\n",
       "      <td>0</td>\n",
       "      <td>0</td>\n",
       "      <td>None</td>\n",
       "      <td>None</td>\n",
       "      <td>None</td>\n",
       "      <td>0.025</td>\n",
       "      <td>40.0</td>\n",
       "      <td>Coastal Water</td>\n",
       "      <td>0</td>\n",
       "      <td>0.0</td>\n",
       "      <td>0.0</td>\n",
       "      <td>1507.683439</td>\n",
       "      <td>3.696424e+04</td>\n",
       "      <td>POLYGON ((447845.9320874052 7249123.273189012,...</td>\n",
       "    </tr>\n",
       "    <tr>\n",
       "      <th>2</th>\n",
       "      <td>0</td>\n",
       "      <td>0</td>\n",
       "      <td>None</td>\n",
       "      <td>None</td>\n",
       "      <td>None</td>\n",
       "      <td>0.025</td>\n",
       "      <td>40.0</td>\n",
       "      <td>Coastal Water</td>\n",
       "      <td>0</td>\n",
       "      <td>0.0</td>\n",
       "      <td>0.0</td>\n",
       "      <td>32577.239684</td>\n",
       "      <td>4.024320e+06</td>\n",
       "      <td>POLYGON ((448050.3153323128 7241192.393661046,...</td>\n",
       "    </tr>\n",
       "    <tr>\n",
       "      <th>3</th>\n",
       "      <td>0</td>\n",
       "      <td>0</td>\n",
       "      <td>None</td>\n",
       "      <td>None</td>\n",
       "      <td>None</td>\n",
       "      <td>0.025</td>\n",
       "      <td>40.0</td>\n",
       "      <td>Coastal Water</td>\n",
       "      <td>0</td>\n",
       "      <td>0.0</td>\n",
       "      <td>0.0</td>\n",
       "      <td>17094.300845</td>\n",
       "      <td>3.056761e+06</td>\n",
       "      <td>POLYGON ((523660.2675399155 7238256.11602405, ...</td>\n",
       "    </tr>\n",
       "    <tr>\n",
       "      <th>4</th>\n",
       "      <td>0</td>\n",
       "      <td>0</td>\n",
       "      <td>None</td>\n",
       "      <td>None</td>\n",
       "      <td>None</td>\n",
       "      <td>0.025</td>\n",
       "      <td>40.0</td>\n",
       "      <td>Coastal Water</td>\n",
       "      <td>0</td>\n",
       "      <td>0.0</td>\n",
       "      <td>0.0</td>\n",
       "      <td>9822.985870</td>\n",
       "      <td>6.001529e+05</td>\n",
       "      <td>POLYGON ((448569.4988675959 7238605.131837157,...</td>\n",
       "    </tr>\n",
       "  </tbody>\n",
       "</table>\n",
       "</div>"
      ],
      "text/plain": [
       "   OBJECTID  QLUMP_CODE PRIMARY SECONDARY TERTIARY  Manning_n  inv_mann_n  \\\n",
       "0         0           0    None      None     None      0.025        40.0   \n",
       "1         0           0    None      None     None      0.025        40.0   \n",
       "2         0           0    None      None     None      0.025        40.0   \n",
       "3         0           0    None      None     None      0.025        40.0   \n",
       "4         0           0    None      None     None      0.025        40.0   \n",
       "\n",
       "      Class_Name  Id  ROAD  Shape_Leng     Shape_Le_1    Shape_Area  \\\n",
       "0  Coastal Water   0   0.0         0.0  893089.340340  2.948710e+09   \n",
       "1  Coastal Water   0   0.0         0.0    1507.683439  3.696424e+04   \n",
       "2  Coastal Water   0   0.0         0.0   32577.239684  4.024320e+06   \n",
       "3  Coastal Water   0   0.0         0.0   17094.300845  3.056761e+06   \n",
       "4  Coastal Water   0   0.0         0.0    9822.985870  6.001529e+05   \n",
       "\n",
       "                                            geometry  \n",
       "0  POLYGON ((538366.4013483515 7232355.935799949,...  \n",
       "1  POLYGON ((447845.9320874052 7249123.273189012,...  \n",
       "2  POLYGON ((448050.3153323128 7241192.393661046,...  \n",
       "3  POLYGON ((523660.2675399155 7238256.11602405, ...  \n",
       "4  POLYGON ((448569.4988675959 7238605.131837157,...  "
      ]
     },
     "execution_count": 10,
     "metadata": {},
     "output_type": "execute_result"
    }
   ],
   "source": [
    "roughness_map.head()"
   ]
  },
  {
   "cell_type": "markdown",
   "metadata": {},
   "source": [
    "These are all of the attributes within the roughness map with each row of the dataframe corresponding to a polygon. We're interested in obtaining the `Manning_n` value for each mesh element\n",
    "\n",
    "*For demo purposes, the roughness map covers a subset of the mesh to keep file size reasonable.*"
   ]
  },
  {
   "cell_type": "code",
   "execution_count": 63,
   "metadata": {},
   "outputs": [
    {
     "data": {
      "image/png": "[encoded data removed]",
      "text/plain": [
       "<Figure size 1296x720 with 1 Axes>"
      ]
     },
     "metadata": {},
     "output_type": "display_data"
    }
   ],
   "source": [
    "fig, ax = plt.subplots(figsize=(18,10))\n",
    "roughness_map.plot(column = 'Class_Name', ax=ax, legend=True, categorical=True)#, cmap=cm.cool)\n",
    "shp_x = ax.get_xlim()\n",
    "shp_y = ax.get_ylim()\n",
    "ax.scatter(m.elements[:,0], m.elements[:,1], color='k', s=40, marker='x')\n",
    "ax.set_ylim(shp_y)\n",
    "ax.set_xlim(shp_x)\n",
    "ax.set_aspect('equal')\n",
    "plt.show()"
   ]
  },
  {
   "cell_type": "markdown",
   "metadata": {},
   "source": [
    "The figure shows the different polygon classes and the crosses show the centre of mesh elements. A spatial join will be performed on the mesh element points and the Manning's n value for whichever polygon an element is within."
   ]
  },
  {
   "cell_type": "markdown",
   "metadata": {},
   "source": [
    "## Roughness Values for Mesh Elements"
   ]
  },
  {
   "cell_type": "markdown",
   "metadata": {},
   "source": [
    "From the `dhitools` `mesh` object we can call the method `lyr_from_shape` which accepts a layer name to save to, path to the `.shp` file we're interested in (ie. the roughness map) and the field in the shape files attribute table to extract values from after the spatial join."
   ]
  },
  {
   "cell_type": "code",
   "execution_count": 65,
   "metadata": {},
   "outputs": [],
   "source": [
    "lyr_name = 'roughness' # This is just a dictionary key to access the extracted results"
   ]
  },
  {
   "cell_type": "markdown",
   "metadata": {},
   "source": [
    "Roughness `.shp` file is as before"
   ]
  },
  {
   "cell_type": "code",
   "execution_count": 67,
   "metadata": {},
   "outputs": [
    {
     "data": {
      "text/plain": [
       "'data/shp/roughness.shp'"
      ]
     },
     "execution_count": 67,
     "metadata": {},
     "output_type": "execute_result"
    }
   ],
   "source": [
    "roughness_shp"
   ]
  },
  {
   "cell_type": "markdown",
   "metadata": {},
   "source": [
    "Field attribute is the 'Manning_n', as seen in the `roughness_map` GeoDataFrame above"
   ]
  },
  {
   "cell_type": "code",
   "execution_count": 66,
   "metadata": {},
   "outputs": [],
   "source": [
    "field_attribute = 'Manning_n'"
   ]
  },
  {
   "cell_type": "markdown",
   "metadata": {},
   "source": [
    "Call the `lyr_from_shape` function"
   ]
  },
  {
   "cell_type": "code",
   "execution_count": 69,
   "metadata": {},
   "outputs": [
    {
     "name": "stdout",
     "output_type": "stream",
     "text": [
      "Warning: CRS does not match!\n"
     ]
    }
   ],
   "source": [
    "m.lyr_from_shape(lyr_name, roughness_shp, field_attribute)"
   ]
  },
  {
   "cell_type": "markdown",
   "metadata": {},
   "source": [
    "This saves the values in the mesh `lyrs` attribute in a dictionary, accessed by the `lyr_name` (the dictionary key) "
   ]
  },
  {
   "cell_type": "code",
   "execution_count": 74,
   "metadata": {},
   "outputs": [
    {
     "data": {
      "text/plain": [
       "array([  nan,   nan,   nan,   nan,   nan,   nan,   nan,   nan,   nan,\n",
       "         nan,   nan,   nan,   nan,   nan,   nan,   nan,   nan,   nan,\n",
       "         nan,   nan,   nan,   nan, 0.025,   nan,   nan, 0.025, 0.025,\n",
       "         nan, 0.025,   nan,   nan, 0.025,   nan,   nan,   nan,   nan,\n",
       "         nan,   nan,   nan,   nan,   nan,   nan,   nan,   nan,   nan,\n",
       "         nan, 0.025,   nan,   nan, 0.025,   nan,   nan,   nan,   nan,\n",
       "         nan,   nan,   nan,   nan,   nan,   nan,   nan,   nan,   nan,\n",
       "         nan,   nan,   nan,   nan,   nan,   nan,   nan,   nan,   nan,\n",
       "         nan,   nan,   nan,   nan,   nan,   nan,   nan, 0.025,   nan,\n",
       "         nan,   nan,   nan,   nan,   nan,   nan,   nan,   nan,   nan,\n",
       "         nan,   nan,   nan,   nan,   nan, 0.025,   nan,   nan,   nan,\n",
       "         nan,   nan,   nan,   nan,   nan,   nan,   nan,   nan,   nan,\n",
       "         nan,   nan, 0.07 , 0.07 ,   nan,   nan,   nan,   nan,   nan,\n",
       "         nan,   nan,   nan,   nan, 0.025,   nan,   nan,   nan,   nan,\n",
       "         nan,   nan,   nan,   nan,   nan,   nan,   nan, 0.025,   nan,\n",
       "         nan,   nan,   nan, 0.025,   nan,   nan,   nan,   nan,   nan,\n",
       "         nan, 0.025,   nan, 0.025,   nan,   nan])"
      ]
     },
     "execution_count": 74,
     "metadata": {},
     "output_type": "execute_result"
    }
   ],
   "source": [
    "m.lyrs['roughness'][:150]"
   ]
  },
  {
   "cell_type": "markdown",
   "metadata": {},
   "source": [
    "A lot of these values are `nan` because the roughness map only covers a subset of the mesh."
   ]
  },
  {
   "cell_type": "code",
   "execution_count": 88,
   "metadata": {},
   "outputs": [
    {
     "data": {
      "image/png": "[encoded data removed]",
      "text/plain": [
       "<Figure size 432x288 with 1 Axes>"
      ]
     },
     "metadata": {},
     "output_type": "display_data"
    }
   ],
   "source": [
    "plt.hist(m.lyrs['roughness'][~np.isnan(m.lyrs['roughness'])], bins=10)\n",
    "ax = plt.gca()\n",
    "ax.set_xlabel('Manning (n)')\n",
    "ax.set_ylabel('Count')\n",
    "plt.show()"
   ]
  },
  {
   "cell_type": "markdown",
   "metadata": {},
   "source": [
    "## Output .dfsu"
   ]
  },
  {
   "cell_type": "markdown",
   "metadata": {},
   "source": [
    "Call `lyr_to_dfsu` to write the roughness values for each mesh element to a `.dfsu`.\n",
    "\n",
    "Accepts input, `lyr_name` to get the values, and a path to the output `.dfsu`"
   ]
  },
  {
   "cell_type": "code",
   "execution_count": 90,
   "metadata": {},
   "outputs": [],
   "source": [
    "dfsu_out = 'data/roughness.dfsu'"
   ]
  },
  {
   "cell_type": "code",
   "execution_count": 91,
   "metadata": {},
   "outputs": [],
   "source": [
    "m.lyr_to_dfsu(lyr_name, dfsu_out)"
   ]
  }
 ],
 "metadata": {
  "kernelspec": {
   "display_name": "dhitools_py2",
   "language": "python",
   "name": "dhitools_py2"
  },
  "language_info": {
   "codemirror_mode": {
    "name": "ipython",
    "version": 2
   },
   "file_extension": ".py",
   "mimetype": "text/x-python",
   "name": "python",
   "nbconvert_exporter": "python",
   "pygments_lexer": "ipython2",
   "version": "2.7.15"
  }
 },
 "nbformat": 4,
 "nbformat_minor": 2
}
