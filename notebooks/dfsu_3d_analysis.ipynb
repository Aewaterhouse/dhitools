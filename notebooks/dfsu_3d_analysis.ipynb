{
 "nbformat": 4,
 "nbformat_minor": 2,
 "metadata": {
  "language_info": {
   "name": "python",
   "codemirror_mode": {
    "name": "ipython",
    "version": 3
   },
   "version": "3.6.7-final"
  },
  "orig_nbformat": 2,
  "file_extension": ".py",
  "mimetype": "text/x-python",
  "name": "python",
  "npconvert_exporter": "python",
  "pygments_lexer": "ipython3",
  "version": 3,
  "kernelspec": {
   "name": "python36764bitpy36conda2ff091ceaf854dc48d754ace82a01d7f",
   "display_name": "Python 3.6.7 64-bit ('py36': conda)"
  }
 },
 "cells": [
  {
   "cell_type": "code",
   "execution_count": null,
   "metadata": {},
   "outputs": [],
   "source": []
  },
  {
   "cell_type": "code",
   "execution_count": 10,
   "metadata": {},
   "outputs": [
    {
     "output_type": "stream",
     "name": "stdout",
     "text": "<dhitools.dfsu3.Dfsu object at 0x0000026AC9C51828>\n<dhitools.dfsu.Dfsu object at 0x0000026AC9C51550>\n"
    }
   ],
   "source": [
    "from dhitools import dfsu, dfsu3, mesh, plot, units\n",
    "\n",
    "dfsu = dfsu.Dfsu()\n",
    "dfsu3 = dfsu3.Dfsu()\n",
    "\n",
    "print(dfsu3)\n",
    "print(dfsu)\n",
    ""
   ]
  },
  {
   "cell_type": "code",
   "execution_count": 5,
   "metadata": {},
   "outputs": [],
   "source": []
  },
  {
   "cell_type": "markdown",
   "metadata": {},
   "source": []
  }
 ]
}